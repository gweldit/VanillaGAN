{
 "cells": [
  {
   "cell_type": "code",
   "execution_count": 1,
   "metadata": {},
   "outputs": [],
   "source": [
    "import networkx as nx\n",
    "import matplotlib.pyplot as plt\n",
    "import torch\n",
    "import numpy as np\n",
    "from collections import Counter\n",
    "from torch_geometric.loader import DataLoader\n",
    "import torch.nn as nn\n",
    "from torch.optim import Adam\n",
    "from torch.nn.utils.rnn import pad_sequence\n",
    "from sklearn.model_selection import train_test_split\n",
    "\n",
    "from pathlib import Path\n",
    "import os\n",
    "\n",
    "# custom modules\n",
    "from models import Generator, Discriminator\n",
    "from custom_dataset import CustomSequenceDataset\n",
    "from preprocess_data import read_adfa_data, sequence_to_graph, fetch_graph_data\n",
    "from utils import get_device, plot_loss_curve, evaluate_gcn_model\n",
    "from classifiers import GCNModel\n",
    "from train import train_gan_model\n",
    "from train import train_gcn_model\n",
    "from models import init_weights"
   ]
  },
  {
   "cell_type": "code",
   "execution_count": 2,
   "metadata": {},
   "outputs": [],
   "source": [
    "# for reproducibility\n",
    "import random\n",
    "\n",
    "SEED = 42\n",
    "torch.manual_seed(SEED)\n",
    "np.random.seed(SEED)\n",
    "random.seed(SEED)"
   ]
  },
  {
   "cell_type": "markdown",
   "metadata": {},
   "source": [
    "# read, preprocess, and fetch the ADFA datasets\n"
   ]
  },
  {
   "cell_type": "code",
   "execution_count": 3,
   "metadata": {},
   "outputs": [],
   "source": [
    "data_folder = \"ADFA\"  # make sure \"ADFA\" folder in the parent directory of this project's folder [ie., your codes]\n",
    "current_directory = Path(os.getcwd())\n",
    "parent_path = current_directory.parent.absolute()\n",
    "# print(current_directory.parent.absolute())\n",
    "\n",
    "full_data_folder_path = os.path.join(parent_path, data_folder)"
   ]
  },
  {
   "cell_type": "code",
   "execution_count": 4,
   "metadata": {},
   "outputs": [
    {
     "name": "stdout",
     "output_type": "stream",
     "text": [
      "Read 833 sequences from Training_Data_Master\n",
      "Read 4372 sequences from Validation_Data_Master\n",
      "Read 746 sequences from Attack_Data_Master\n"
     ]
    },
    {
     "data": {
      "text/plain": [
       "(4165, 4165, 1786, 1786)"
      ]
     },
     "execution_count": 4,
     "metadata": {},
     "output_type": "execute_result"
    }
   ],
   "source": [
    "adfa_sub_folders = [\n",
    "    \"Training_Data_Master\",\n",
    "    \"Validation_Data_Master\",\n",
    "    \"Attack_Data_Master\",\n",
    "]\n",
    "\n",
    "benign_training_data_path = os.path.join(full_data_folder_path, adfa_sub_folders[0])\n",
    "benign_validation_data_path = os.path.join(full_data_folder_path, adfa_sub_folders[1])\n",
    "\n",
    "attack_data_path = os.path.join(full_data_folder_path, adfa_sub_folders[2])\n",
    "\n",
    "\n",
    "# read the sub folders\n",
    "benign_train_sequences, benign_train_labels = read_adfa_data(benign_training_data_path)\n",
    "\n",
    "benign_val_sequences, benign_val_labels = read_adfa_data(benign_validation_data_path)\n",
    "\n",
    "attack_sequences, attack_labels = read_adfa_data(attack_data_path)\n",
    "\n",
    "\n",
    "data = benign_train_sequences + benign_val_sequences + attack_sequences\n",
    "labels = benign_train_labels + benign_val_labels + attack_labels\n",
    "\n",
    "# perform  70 % training and 30% testing set split\n",
    "\n",
    "train_data, test_data, train_labels, test_labels = train_test_split(\n",
    "    data, labels, test_size=0.3, random_state=42, shuffle=True, stratify=labels\n",
    ")\n",
    "\n",
    "len(train_data), len(train_labels), len(test_data), len(test_labels)"
   ]
  },
  {
   "cell_type": "code",
   "execution_count": 5,
   "metadata": {},
   "outputs": [
    {
     "data": {
      "text/plain": [
       "746"
      ]
     },
     "execution_count": 5,
     "metadata": {},
     "output_type": "execute_result"
    }
   ],
   "source": [
    "len(attack_sequences)"
   ]
  },
  {
   "cell_type": "code",
   "execution_count": 6,
   "metadata": {},
   "outputs": [
    {
     "data": {
      "text/plain": [
       "Counter({0: 3643, 1: 522})"
      ]
     },
     "execution_count": 6,
     "metadata": {},
     "output_type": "execute_result"
    }
   ],
   "source": [
    "# Data is imbalanced: 1666 samples of benign & 1051 samples of attack (malignant) will be used for training the GCN model\n",
    "Counter(train_labels)"
   ]
  },
  {
   "cell_type": "code",
   "execution_count": 7,
   "metadata": {},
   "outputs": [
    {
     "data": {
      "text/plain": [
       "Counter({0: 1562, 1: 224})"
      ]
     },
     "execution_count": 7,
     "metadata": {},
     "output_type": "execute_result"
    }
   ],
   "source": [
    "Counter(test_labels)"
   ]
  },
  {
   "cell_type": "code",
   "execution_count": 8,
   "metadata": {},
   "outputs": [],
   "source": [
    "# Create a custom dataset\n",
    "batch_size = 256\n",
    "# convert train_data sequences and val_data sequences into graphs\n",
    "\n",
    "train_graph_dataset = fetch_graph_data(train_data, train_labels)\n",
    "val_graph_dataset = fetch_graph_data(test_data, test_labels)\n",
    "\n",
    "\n",
    "# Create a data loader\n",
    "graph_train_loader = DataLoader(\n",
    "    train_graph_dataset, batch_size=batch_size, shuffle=True\n",
    ")\n",
    "graph_val_loader = DataLoader(val_graph_dataset, batch_size=batch_size, shuffle=False)"
   ]
  },
  {
   "cell_type": "code",
   "execution_count": 9,
   "metadata": {},
   "outputs": [
    {
     "data": {
      "text/plain": [
       "Data(edge_index=[2, 63], weight=[63], num_nodes=17, x=[1], y=0)"
      ]
     },
     "execution_count": 9,
     "metadata": {},
     "output_type": "execute_result"
    }
   ],
   "source": [
    "# you can see the graph data: it has edge_index, weight, num_nodes, y (label of the graph, i.e., malign or benign), and x (node features). Here, x is a list of integers representing the node features. They need to be converted to a one-hot vector of size vocab_size or vector of embedded representation.\n",
    "train_graph_dataset[0]"
   ]
  },
  {
   "cell_type": "code",
   "execution_count": 10,
   "metadata": {},
   "outputs": [
    {
     "name": "stderr",
     "output_type": "stream",
     "text": [
      "100%|██████████| 17/17 [00:01<00:00, 12.00it/s]\n"
     ]
    },
    {
     "name": "stdout",
     "output_type": "stream",
     "text": [
      "Epoch 1 / 5, Loss: 0.5255, F1 Score: 0.0000\n"
     ]
    },
    {
     "name": "stderr",
     "output_type": "stream",
     "text": [
      "100%|██████████| 17/17 [00:01<00:00, 12.51it/s]\n"
     ]
    },
    {
     "name": "stdout",
     "output_type": "stream",
     "text": [
      "Epoch 2 / 5, Loss: 0.4380, F1 Score: 0.0000\n"
     ]
    },
    {
     "name": "stderr",
     "output_type": "stream",
     "text": [
      "100%|██████████| 17/17 [00:01<00:00, 14.13it/s]\n"
     ]
    },
    {
     "name": "stdout",
     "output_type": "stream",
     "text": [
      "Epoch 3 / 5, Loss: 0.4360, F1 Score: 0.0000\n"
     ]
    },
    {
     "name": "stderr",
     "output_type": "stream",
     "text": [
      "100%|██████████| 17/17 [00:01<00:00, 12.79it/s]\n"
     ]
    },
    {
     "name": "stdout",
     "output_type": "stream",
     "text": [
      "Epoch 4 / 5, Loss: 0.4172, F1 Score: 0.2267\n"
     ]
    },
    {
     "name": "stderr",
     "output_type": "stream",
     "text": [
      "100%|██████████| 17/17 [00:01<00:00, 13.33it/s]"
     ]
    },
    {
     "name": "stdout",
     "output_type": "stream",
     "text": [
      "Epoch 5 / 5, Loss: 0.4011, F1 Score: 0.5571\n"
     ]
    },
    {
     "name": "stderr",
     "output_type": "stream",
     "text": [
      "\n"
     ]
    }
   ],
   "source": [
    "# device = get_device()\n",
    "vocab_size = 342\n",
    "hidden_dim = 128  # also the number of hidden nodes in the GCN. Can be set to 128, 256 or 512. If you have more GPU, you can increase it. However, you may face overfitting. Increase dropout if you face overfitting. Like dropout = 0.6, 0.7, 0.8\n",
    "num_classes = 2\n",
    "dropout = 0.4\n",
    "output_dim = num_classes\n",
    "# number of GCN layers, depending on your GPU, set it to any integer from 2 to 5.\n",
    "num_layers = 4\n",
    "EPOCHS_GCN = 5  # change this  100 to get more accurate results\n",
    "\n",
    "\n",
    "device = torch.device(\"cpu\")\n",
    "\n",
    "\n",
    "gcn_model = GCNModel(\n",
    "    in_channels=vocab_size,\n",
    "    hidden_channels=hidden_dim,\n",
    "    out_channels=num_classes,\n",
    "    num_layers=num_layers,\n",
    "    dropout=dropout,\n",
    ").to(device)\n",
    "\n",
    "train_losses, train_f1_scores = train_gcn_model(\n",
    "    gcn_model,\n",
    "    graph_train_loader,\n",
    "    vocab_size=vocab_size,\n",
    "    epochs=EPOCHS_GCN,\n",
    "    device=device,\n",
    ")"
   ]
  },
  {
   "cell_type": "code",
   "execution_count": 11,
   "metadata": {},
   "outputs": [
    {
     "data": {
      "image/png": "[encoded data removed]",
      "text/plain": [
       "<Figure size 640x480 with 1 Axes>"
      ]
     },
     "metadata": {},
     "output_type": "display_data"
    }
   ],
   "source": [
    "x = np.arange(EPOCHS_GCN, dtype=int)\n",
    "plt.plot(x, train_losses, color=\"red\", label=\"GCN Training Loss\")\n",
    "plt.plot(x, train_f1_scores, color=\"blue\", label=\"GCN Training F1 Score\")\n",
    "plt.title(\"Training Loss and F1 Score\")\n",
    "plt.xlabel(\"Epochs\")\n",
    "plt.ylabel(\"Loss\")\n",
    "plt.legend()\n",
    "plt.show()"
   ]
  },
  {
   "cell_type": "code",
   "execution_count": 12,
   "metadata": {},
   "outputs": [
    {
     "name": "stdout",
     "output_type": "stream",
     "text": [
      "GCN performance:\n",
      "Accuracy: 0.9233\n",
      "Precision: 0.8965\n",
      "Recall: 0.7248\n",
      "F1 score: 0.7791\n",
      "MCC: 0.5971\n"
     ]
    }
   ],
   "source": [
    "evaluate_gcn_model(gcn_model, graph_val_loader, vocab_size=vocab_size, device=device)"
   ]
  },
  {
   "cell_type": "code",
   "execution_count": 13,
   "metadata": {},
   "outputs": [
    {
     "data": {
      "text/plain": [
       "(torch.Size([4165, 4094]), torch.Size([1786, 4494]))"
      ]
     },
     "execution_count": 13,
     "metadata": {},
     "output_type": "execute_result"
    }
   ],
   "source": [
    "# PREPARE DATASET FOR GAN MODEL: pad the sequences to make them of same length, then trim them to a fixed sequence length to avoid too much padding.\n",
    "# convert train_data sequences and val_data sequences into graphs\n",
    "SEQUENCE_LENGTH = 100\n",
    "train_data_padded = pad_sequence(\n",
    "    [torch.tensor(sequence, dtype=torch.long) for sequence in train_data],\n",
    "    batch_first=True,\n",
    ")\n",
    "\n",
    "val_data_padded = pad_sequence(\n",
    "    [torch.tensor(sequence, dtype=torch.long) for sequence in test_data],\n",
    "    batch_first=True,\n",
    ")\n",
    "\n",
    "train_data_padded.shape, val_data_padded.shape"
   ]
  },
  {
   "cell_type": "code",
   "execution_count": 14,
   "metadata": {},
   "outputs": [
    {
     "name": "stdout",
     "output_type": "stream",
     "text": [
      "Counter({0: 140, 1: 116})\n",
      "Counter({0: 131, 1: 125})\n",
      "Counter({0: 130, 1: 126})\n",
      "Counter({0: 133, 1: 123})\n",
      "Counter({0: 130, 1: 126})\n",
      "Counter({1: 131, 0: 125})\n",
      "Counter({0: 136, 1: 120})\n",
      "Counter({1: 130, 0: 126})\n",
      "Counter({1: 134, 0: 122})\n",
      "Counter({1: 133, 0: 123})\n",
      "Counter({0: 131, 1: 125})\n",
      "Counter({1: 130, 0: 126})\n",
      "Counter({1: 132, 0: 124})\n",
      "Counter({0: 131, 1: 125})\n",
      "Counter({1: 132, 0: 124})\n",
      "Counter({0: 135, 1: 121})\n",
      "Counter({1: 47, 0: 22})\n"
     ]
    }
   ],
   "source": [
    "import numpy as np\n",
    "from torch.utils.data import DataLoader, WeightedRandomSampler\n",
    "\n",
    "\n",
    "train_data_padded[:, SEQUENCE_LENGTH].shape, val_data_padded[:SEQUENCE_LENGTH].shape\n",
    "\n",
    "# our dataset will be of shape (n_samples, SEQUENCE_LENGTH).\n",
    "train_dataset = CustomSequenceDataset(\n",
    "    train_data_padded[:, :SEQUENCE_LENGTH], train_labels\n",
    ")\n",
    "val_dataset = CustomSequenceDataset(val_data_padded[:, :SEQUENCE_LENGTH], test_labels)\n",
    "\n",
    "\n",
    "# Assuming 'train_dataset' is your dataset for training\n",
    "# and 'y_train' is a list of class labels for the dataset\n",
    "\n",
    "# Calculate the class weights\n",
    "class_sample_count = np.array(\n",
    "    [len(np.where(train_labels == t)[0]) for t in np.unique(train_labels)]\n",
    ")\n",
    "weight = 1.0 / class_sample_count\n",
    "\n",
    "# Assign weights to each sample\n",
    "samples_weight = np.array([weight[t] for t in train_labels])\n",
    "samples_weight = torch.from_numpy(samples_weight)\n",
    "\n",
    "# Create the sampler\n",
    "# class_weights = samples_weight.type('torch.DoubleTensor')\n",
    "class_weights = torch.tensor([1.0, 1.0])\n",
    "\n",
    "sampler = WeightedRandomSampler(class_weights, len(samples_weight))\n",
    "\n",
    "# Use the sampler in the DataLoader\n",
    "train_loader = DataLoader(\n",
    "    train_dataset,\n",
    "    batch_size=batch_size,\n",
    "    sampler=sampler,\n",
    "    shuffle=False,\n",
    "    # drop_last=True\n",
    ")\n",
    "\n",
    "# if you do not want to use Balanced Weight ( or balanced class training), common the line of code above, and uncomment the line below\n",
    "# train_loader = DataLoader(train_dataset, batch_size=batch_size, shuffle=True)\n",
    "val_loader = DataLoader(val_dataset, batch_size=batch_size, shuffle=False)\n",
    "\n",
    "\n",
    "# check the data is balanced\n",
    "\n",
    "for data, labels in train_loader:\n",
    "    print(Counter(labels.tolist()))"
   ]
  },
  {
   "cell_type": "code",
   "execution_count": 24,
   "metadata": {},
   "outputs": [],
   "source": [
    "# hyperparameters of the generator and discriminator of the GAN model\n",
    "latent_dim = 100\n",
    "hidden_dim = 128\n",
    "vocab_size = 342  # we have 342 unique system calls in the ADFA dataset\n",
    "seq_len = SEQUENCE_LENGTH  # sequence length of the ADFA dataset with less than 120, will be padded. If sequence is longer than 120, it will be truncated.\n",
    "output_dim = vocab_size\n",
    "embed_dim = 10\n",
    "dropout = 0.5\n",
    "batch_size = 256  # 32\n",
    "n_samples = 1000\n",
    "num_classes = 2\n",
    "lr = 4e-4  # 5e-5  # 2e-6\n",
    "epochs = 150\n",
    "# criterion = nn.BCELoss()\n",
    "criterion = nn.CrossEntropyLoss()\n",
    "device = get_device()\n",
    "temperature = 0.2  # 0.1\n",
    "\n",
    "gen = Generator(\n",
    "    latent_dim,\n",
    "    seq_len,\n",
    "    hidden_dim,\n",
    "    output_dim,\n",
    "    embed_dim,\n",
    "    dropout,\n",
    "    conditional_info=True,\n",
    "    num_classes=num_classes,\n",
    ").to(device)\n",
    "# gen = Gen(latent_dim, hidden_dim, seq_len, output_dim, embed_dim, dropout).to(device)\n",
    "\n",
    "disc = Discriminator(\n",
    "    vocab_size,\n",
    "    seq_len,\n",
    "    hidden_dim,\n",
    "    embed_dim,\n",
    "    dropout,\n",
    "    conditional_info=True,\n",
    "    num_classes=num_classes,\n",
    ").to(device)\n",
    "\n",
    "\n",
    "# To apply weights initialization to your GAN model, uncomment the two lines of code below:\n",
    "\n",
    "gen.apply(init_weights)\n",
    "disc.apply(init_weights)\n",
    "\n",
    "gen_optimizer = Adam(gen.parameters(), lr=lr, betas=(0.5, 0.999))\n",
    "\n",
    "disc_optimizer = Adam(disc.parameters(), lr=lr, betas=(0.5, 0.999))"
   ]
  },
  {
   "cell_type": "code",
   "execution_count": 25,
   "metadata": {},
   "outputs": [],
   "source": [
    "device = get_device()"
   ]
  },
  {
   "cell_type": "code",
   "execution_count": 26,
   "metadata": {},
   "outputs": [],
   "source": [
    "# input_data = torch.randint(0, vocab_size, (n_samples, seq_len))\n",
    "# input_labels = torch.randint(0, num_classes, (n_samples,))\n",
    "# train_dataset = CustomSequenceDataset(input_data, input_labels)\n",
    "# train_loader = DataLoader(train_dataset, batch_size=batch_size, shuffle=True)"
   ]
  },
  {
   "cell_type": "code",
   "execution_count": 27,
   "metadata": {},
   "outputs": [
    {
     "name": "stdout",
     "output_type": "stream",
     "text": [
      "Epoch 1 / 150\n"
     ]
    },
    {
     "name": "stderr",
     "output_type": "stream",
     "text": [
      "100%|██████████| 17/17 [00:02<00:00,  7.22it/s]\n"
     ]
    },
    {
     "name": "stdout",
     "output_type": "stream",
     "text": [
      "D Loss: 1.3860, G Loss: -0.6973\n",
      "Epoch 2 / 150\n"
     ]
    },
    {
     "name": "stderr",
     "output_type": "stream",
     "text": [
      "100%|██████████| 17/17 [00:02<00:00,  8.48it/s]\n"
     ]
    },
    {
     "name": "stdout",
     "output_type": "stream",
     "text": [
      "D Loss: 1.3866, G Loss: -0.6928\n",
      "Epoch 3 / 150\n"
     ]
    },
    {
     "name": "stderr",
     "output_type": "stream",
     "text": [
      "100%|██████████| 17/17 [00:01<00:00,  8.96it/s]\n"
     ]
    },
    {
     "name": "stdout",
     "output_type": "stream",
     "text": [
      "D Loss: 1.3868, G Loss: -0.6928\n",
      "Epoch 4 / 150\n"
     ]
    },
    {
     "name": "stderr",
     "output_type": "stream",
     "text": [
      "100%|██████████| 17/17 [00:01<00:00,  9.29it/s]\n"
     ]
    },
    {
     "name": "stdout",
     "output_type": "stream",
     "text": [
      "D Loss: 1.3860, G Loss: -0.6930\n",
      "Epoch 5 / 150\n"
     ]
    },
    {
     "name": "stderr",
     "output_type": "stream",
     "text": [
      "100%|██████████| 17/17 [00:01<00:00,  9.32it/s]\n"
     ]
    },
    {
     "name": "stdout",
     "output_type": "stream",
     "text": [
      "D Loss: 1.3862, G Loss: -0.6936\n",
      "Epoch 6 / 150\n"
     ]
    },
    {
     "name": "stderr",
     "output_type": "stream",
     "text": [
      "100%|██████████| 17/17 [00:01<00:00,  8.93it/s]\n"
     ]
    },
    {
     "name": "stdout",
     "output_type": "stream",
     "text": [
      "D Loss: 1.3865, G Loss: -0.6931\n",
      "Epoch 7 / 150\n"
     ]
    },
    {
     "name": "stderr",
     "output_type": "stream",
     "text": [
      "100%|██████████| 17/17 [00:01<00:00,  9.12it/s]\n"
     ]
    },
    {
     "name": "stdout",
     "output_type": "stream",
     "text": [
      "D Loss: 1.3860, G Loss: -0.6936\n",
      "Epoch 8 / 150\n"
     ]
    },
    {
     "name": "stderr",
     "output_type": "stream",
     "text": [
      "100%|██████████| 17/17 [00:01<00:00,  8.81it/s]\n"
     ]
    },
    {
     "name": "stdout",
     "output_type": "stream",
     "text": [
      "D Loss: 1.3866, G Loss: -0.6934\n",
      "Epoch 9 / 150\n"
     ]
    },
    {
     "name": "stderr",
     "output_type": "stream",
     "text": [
      "100%|██████████| 17/17 [00:01<00:00,  9.27it/s]\n"
     ]
    },
    {
     "name": "stdout",
     "output_type": "stream",
     "text": [
      "D Loss: 1.3866, G Loss: -0.6926\n",
      "Epoch 10 / 150\n"
     ]
    },
    {
     "name": "stderr",
     "output_type": "stream",
     "text": [
      "100%|██████████| 17/17 [00:01<00:00,  8.59it/s]\n"
     ]
    },
    {
     "name": "stdout",
     "output_type": "stream",
     "text": [
      "D Loss: 1.3865, G Loss: -0.6926\n",
      "Epoch 11 / 150\n"
     ]
    },
    {
     "name": "stderr",
     "output_type": "stream",
     "text": [
      "100%|██████████| 17/17 [00:01<00:00,  8.75it/s]\n"
     ]
    },
    {
     "name": "stdout",
     "output_type": "stream",
     "text": [
      "D Loss: 1.3866, G Loss: -0.6912\n",
      "Epoch 12 / 150\n"
     ]
    },
    {
     "name": "stderr",
     "output_type": "stream",
     "text": [
      "100%|██████████| 17/17 [00:01<00:00,  8.94it/s]\n"
     ]
    },
    {
     "name": "stdout",
     "output_type": "stream",
     "text": [
      "D Loss: 1.3861, G Loss: -0.6929\n",
      "Epoch 13 / 150\n"
     ]
    },
    {
     "name": "stderr",
     "output_type": "stream",
     "text": [
      "100%|██████████| 17/17 [00:01<00:00,  8.87it/s]\n"
     ]
    },
    {
     "name": "stdout",
     "output_type": "stream",
     "text": [
      "D Loss: 1.3869, G Loss: -0.6935\n",
      "Epoch 14 / 150\n"
     ]
    },
    {
     "name": "stderr",
     "output_type": "stream",
     "text": [
      "100%|██████████| 17/17 [00:01<00:00,  8.95it/s]\n"
     ]
    },
    {
     "name": "stdout",
     "output_type": "stream",
     "text": [
      "D Loss: 1.3864, G Loss: -0.6931\n",
      "Epoch 15 / 150\n"
     ]
    },
    {
     "name": "stderr",
     "output_type": "stream",
     "text": [
      "100%|██████████| 17/17 [00:01<00:00,  8.87it/s]\n"
     ]
    },
    {
     "name": "stdout",
     "output_type": "stream",
     "text": [
      "D Loss: 1.3861, G Loss: -0.6925\n",
      "Epoch 16 / 150\n"
     ]
    },
    {
     "name": "stderr",
     "output_type": "stream",
     "text": [
      "100%|██████████| 17/17 [00:02<00:00,  8.41it/s]\n"
     ]
    },
    {
     "name": "stdout",
     "output_type": "stream",
     "text": [
      "D Loss: 1.3869, G Loss: -0.6928\n",
      "Epoch 17 / 150\n"
     ]
    },
    {
     "name": "stderr",
     "output_type": "stream",
     "text": [
      "100%|██████████| 17/17 [00:02<00:00,  8.47it/s]\n"
     ]
    },
    {
     "name": "stdout",
     "output_type": "stream",
     "text": [
      "D Loss: 1.3862, G Loss: -0.6931\n",
      "Epoch 18 / 150\n"
     ]
    },
    {
     "name": "stderr",
     "output_type": "stream",
     "text": [
      "100%|██████████| 17/17 [00:02<00:00,  7.99it/s]\n"
     ]
    },
    {
     "name": "stdout",
     "output_type": "stream",
     "text": [
      "D Loss: 1.3869, G Loss: -0.6931\n",
      "Epoch 19 / 150\n"
     ]
    },
    {
     "name": "stderr",
     "output_type": "stream",
     "text": [
      "100%|██████████| 17/17 [00:02<00:00,  8.35it/s]\n"
     ]
    },
    {
     "name": "stdout",
     "output_type": "stream",
     "text": [
      "D Loss: 1.3865, G Loss: -0.6932\n",
      "Epoch 20 / 150\n"
     ]
    },
    {
     "name": "stderr",
     "output_type": "stream",
     "text": [
      "100%|██████████| 17/17 [00:02<00:00,  8.44it/s]\n"
     ]
    },
    {
     "name": "stdout",
     "output_type": "stream",
     "text": [
      "D Loss: 1.3872, G Loss: -0.6941\n",
      "Epoch 21 / 150\n"
     ]
    },
    {
     "name": "stderr",
     "output_type": "stream",
     "text": [
      "100%|██████████| 17/17 [00:02<00:00,  8.12it/s]\n"
     ]
    },
    {
     "name": "stdout",
     "output_type": "stream",
     "text": [
      "D Loss: 1.3868, G Loss: -0.6941\n",
      "Epoch 22 / 150\n"
     ]
    },
    {
     "name": "stderr",
     "output_type": "stream",
     "text": [
      "100%|██████████| 17/17 [00:02<00:00,  8.48it/s]\n"
     ]
    },
    {
     "name": "stdout",
     "output_type": "stream",
     "text": [
      "D Loss: 1.3859, G Loss: -0.6940\n",
      "Epoch 23 / 150\n"
     ]
    },
    {
     "name": "stderr",
     "output_type": "stream",
     "text": [
      "100%|██████████| 17/17 [00:02<00:00,  8.49it/s]\n"
     ]
    },
    {
     "name": "stdout",
     "output_type": "stream",
     "text": [
      "D Loss: 1.3861, G Loss: -0.6932\n",
      "Epoch 24 / 150\n"
     ]
    },
    {
     "name": "stderr",
     "output_type": "stream",
     "text": [
      "100%|██████████| 17/17 [00:02<00:00,  8.24it/s]\n"
     ]
    },
    {
     "name": "stdout",
     "output_type": "stream",
     "text": [
      "D Loss: 1.3863, G Loss: -0.6930\n",
      "Epoch 25 / 150\n"
     ]
    },
    {
     "name": "stderr",
     "output_type": "stream",
     "text": [
      "100%|██████████| 17/17 [00:02<00:00,  8.46it/s]\n"
     ]
    },
    {
     "name": "stdout",
     "output_type": "stream",
     "text": [
      "D Loss: 1.3863, G Loss: -0.6921\n",
      "Epoch 26 / 150\n"
     ]
    },
    {
     "name": "stderr",
     "output_type": "stream",
     "text": [
      "100%|██████████| 17/17 [00:02<00:00,  7.65it/s]\n"
     ]
    },
    {
     "name": "stdout",
     "output_type": "stream",
     "text": [
      "D Loss: 1.3866, G Loss: -0.6926\n",
      "Epoch 27 / 150\n"
     ]
    },
    {
     "name": "stderr",
     "output_type": "stream",
     "text": [
      "100%|██████████| 17/17 [00:01<00:00,  8.62it/s]\n"
     ]
    },
    {
     "name": "stdout",
     "output_type": "stream",
     "text": [
      "D Loss: 1.3870, G Loss: -0.6936\n",
      "Epoch 28 / 150\n"
     ]
    },
    {
     "name": "stderr",
     "output_type": "stream",
     "text": [
      "100%|██████████| 17/17 [00:01<00:00,  8.60it/s]\n"
     ]
    },
    {
     "name": "stdout",
     "output_type": "stream",
     "text": [
      "D Loss: 1.3867, G Loss: -0.6937\n",
      "Epoch 29 / 150\n"
     ]
    },
    {
     "name": "stderr",
     "output_type": "stream",
     "text": [
      "100%|██████████| 17/17 [00:02<00:00,  7.12it/s]\n"
     ]
    },
    {
     "name": "stdout",
     "output_type": "stream",
     "text": [
      "D Loss: 1.3865, G Loss: -0.6938\n",
      "Epoch 30 / 150\n"
     ]
    },
    {
     "name": "stderr",
     "output_type": "stream",
     "text": [
      "100%|██████████| 17/17 [00:02<00:00,  7.57it/s]\n"
     ]
    },
    {
     "name": "stdout",
     "output_type": "stream",
     "text": [
      "D Loss: 1.3865, G Loss: -0.6931\n",
      "Epoch 31 / 150\n"
     ]
    },
    {
     "name": "stderr",
     "output_type": "stream",
     "text": [
      "100%|██████████| 17/17 [00:02<00:00,  8.09it/s]\n"
     ]
    },
    {
     "name": "stdout",
     "output_type": "stream",
     "text": [
      "D Loss: 1.3860, G Loss: -0.6930\n",
      "Epoch 32 / 150\n"
     ]
    },
    {
     "name": "stderr",
     "output_type": "stream",
     "text": [
      "100%|██████████| 17/17 [00:02<00:00,  8.46it/s]\n"
     ]
    },
    {
     "name": "stdout",
     "output_type": "stream",
     "text": [
      "D Loss: 1.3860, G Loss: -0.6934\n",
      "Epoch 33 / 150\n"
     ]
    },
    {
     "name": "stderr",
     "output_type": "stream",
     "text": [
      "100%|██████████| 17/17 [00:01<00:00,  8.73it/s]\n"
     ]
    },
    {
     "name": "stdout",
     "output_type": "stream",
     "text": [
      "D Loss: 1.3868, G Loss: -0.6931\n",
      "Epoch 34 / 150\n"
     ]
    },
    {
     "name": "stderr",
     "output_type": "stream",
     "text": [
      "100%|██████████| 17/17 [00:02<00:00,  8.42it/s]\n"
     ]
    },
    {
     "name": "stdout",
     "output_type": "stream",
     "text": [
      "D Loss: 1.3864, G Loss: -0.6932\n",
      "Epoch 35 / 150\n"
     ]
    },
    {
     "name": "stderr",
     "output_type": "stream",
     "text": [
      "100%|██████████| 17/17 [00:02<00:00,  7.80it/s]\n"
     ]
    },
    {
     "name": "stdout",
     "output_type": "stream",
     "text": [
      "D Loss: 1.3864, G Loss: -0.6939\n",
      "Epoch 36 / 150\n"
     ]
    },
    {
     "name": "stderr",
     "output_type": "stream",
     "text": [
      "100%|██████████| 17/17 [00:01<00:00,  8.62it/s]\n"
     ]
    },
    {
     "name": "stdout",
     "output_type": "stream",
     "text": [
      "D Loss: 1.3866, G Loss: -0.6932\n",
      "Epoch 37 / 150\n"
     ]
    },
    {
     "name": "stderr",
     "output_type": "stream",
     "text": [
      "100%|██████████| 17/17 [00:01<00:00,  8.59it/s]\n"
     ]
    },
    {
     "name": "stdout",
     "output_type": "stream",
     "text": [
      "D Loss: 1.3863, G Loss: -0.6924\n",
      "Epoch 38 / 150\n"
     ]
    },
    {
     "name": "stderr",
     "output_type": "stream",
     "text": [
      "100%|██████████| 17/17 [00:01<00:00,  8.65it/s]\n"
     ]
    },
    {
     "name": "stdout",
     "output_type": "stream",
     "text": [
      "D Loss: 1.3866, G Loss: -0.6938\n",
      "Epoch 39 / 150\n"
     ]
    },
    {
     "name": "stderr",
     "output_type": "stream",
     "text": [
      "100%|██████████| 17/17 [00:01<00:00,  8.70it/s]\n"
     ]
    },
    {
     "name": "stdout",
     "output_type": "stream",
     "text": [
      "D Loss: 1.3864, G Loss: -0.6932\n",
      "Epoch 40 / 150\n"
     ]
    },
    {
     "name": "stderr",
     "output_type": "stream",
     "text": [
      "100%|██████████| 17/17 [00:02<00:00,  8.45it/s]\n"
     ]
    },
    {
     "name": "stdout",
     "output_type": "stream",
     "text": [
      "D Loss: 1.3862, G Loss: -0.6928\n",
      "Epoch 41 / 150\n"
     ]
    },
    {
     "name": "stderr",
     "output_type": "stream",
     "text": [
      "100%|██████████| 17/17 [00:01<00:00,  8.61it/s]\n"
     ]
    },
    {
     "name": "stdout",
     "output_type": "stream",
     "text": [
      "D Loss: 1.3868, G Loss: -0.6929\n",
      "Epoch 42 / 150\n"
     ]
    },
    {
     "name": "stderr",
     "output_type": "stream",
     "text": [
      "100%|██████████| 17/17 [00:01<00:00,  8.64it/s]\n"
     ]
    },
    {
     "name": "stdout",
     "output_type": "stream",
     "text": [
      "D Loss: 1.3868, G Loss: -0.6938\n",
      "Epoch 43 / 150\n"
     ]
    },
    {
     "name": "stderr",
     "output_type": "stream",
     "text": [
      "100%|██████████| 17/17 [00:01<00:00,  8.66it/s]\n"
     ]
    },
    {
     "name": "stdout",
     "output_type": "stream",
     "text": [
      "D Loss: 1.3863, G Loss: -0.6942\n",
      "Epoch 44 / 150\n"
     ]
    },
    {
     "name": "stderr",
     "output_type": "stream",
     "text": [
      "100%|██████████| 17/17 [00:02<00:00,  8.27it/s]\n"
     ]
    },
    {
     "name": "stdout",
     "output_type": "stream",
     "text": [
      "D Loss: 1.3868, G Loss: -0.6934\n",
      "Epoch 45 / 150\n"
     ]
    },
    {
     "name": "stderr",
     "output_type": "stream",
     "text": [
      "100%|██████████| 17/17 [00:02<00:00,  8.38it/s]\n"
     ]
    },
    {
     "name": "stdout",
     "output_type": "stream",
     "text": [
      "D Loss: 1.3861, G Loss: -0.6936\n",
      "Epoch 46 / 150\n"
     ]
    },
    {
     "name": "stderr",
     "output_type": "stream",
     "text": [
      "100%|██████████| 17/17 [00:01<00:00,  8.66it/s]\n"
     ]
    },
    {
     "name": "stdout",
     "output_type": "stream",
     "text": [
      "D Loss: 1.3864, G Loss: -0.6933\n",
      "Epoch 47 / 150\n"
     ]
    },
    {
     "name": "stderr",
     "output_type": "stream",
     "text": [
      "100%|██████████| 17/17 [00:01<00:00,  8.55it/s]\n"
     ]
    },
    {
     "name": "stdout",
     "output_type": "stream",
     "text": [
      "D Loss: 1.3860, G Loss: -0.6931\n",
      "Epoch 48 / 150\n"
     ]
    },
    {
     "name": "stderr",
     "output_type": "stream",
     "text": [
      "100%|██████████| 17/17 [00:01<00:00,  8.56it/s]\n"
     ]
    },
    {
     "name": "stdout",
     "output_type": "stream",
     "text": [
      "D Loss: 1.3866, G Loss: -0.6935\n",
      "Epoch 49 / 150\n"
     ]
    },
    {
     "name": "stderr",
     "output_type": "stream",
     "text": [
      "100%|██████████| 17/17 [00:02<00:00,  8.47it/s]\n"
     ]
    },
    {
     "name": "stdout",
     "output_type": "stream",
     "text": [
      "D Loss: 1.3868, G Loss: -0.6930\n",
      "Epoch 50 / 150\n"
     ]
    },
    {
     "name": "stderr",
     "output_type": "stream",
     "text": [
      "100%|██████████| 17/17 [00:02<00:00,  7.65it/s]\n"
     ]
    },
    {
     "name": "stdout",
     "output_type": "stream",
     "text": [
      "D Loss: 1.3862, G Loss: -0.6929\n",
      "Epoch 51 / 150\n"
     ]
    },
    {
     "name": "stderr",
     "output_type": "stream",
     "text": [
      "100%|██████████| 17/17 [00:02<00:00,  8.07it/s]\n"
     ]
    },
    {
     "name": "stdout",
     "output_type": "stream",
     "text": [
      "D Loss: 1.3864, G Loss: -0.6930\n",
      "Epoch 52 / 150\n"
     ]
    },
    {
     "name": "stderr",
     "output_type": "stream",
     "text": [
      "100%|██████████| 17/17 [00:02<00:00,  8.40it/s]\n"
     ]
    },
    {
     "name": "stdout",
     "output_type": "stream",
     "text": [
      "D Loss: 1.3862, G Loss: -0.6929\n",
      "Epoch 53 / 150\n"
     ]
    },
    {
     "name": "stderr",
     "output_type": "stream",
     "text": [
      "100%|██████████| 17/17 [00:02<00:00,  8.18it/s]\n"
     ]
    },
    {
     "name": "stdout",
     "output_type": "stream",
     "text": [
      "D Loss: 1.3863, G Loss: -0.6929\n",
      "Epoch 54 / 150\n"
     ]
    },
    {
     "name": "stderr",
     "output_type": "stream",
     "text": [
      "100%|██████████| 17/17 [00:02<00:00,  8.00it/s]\n"
     ]
    },
    {
     "name": "stdout",
     "output_type": "stream",
     "text": [
      "D Loss: 1.3860, G Loss: -0.6926\n",
      "Epoch 55 / 150\n"
     ]
    },
    {
     "name": "stderr",
     "output_type": "stream",
     "text": [
      "100%|██████████| 17/17 [00:02<00:00,  7.65it/s]\n"
     ]
    },
    {
     "name": "stdout",
     "output_type": "stream",
     "text": [
      "D Loss: 1.3863, G Loss: -0.6934\n",
      "Epoch 56 / 150\n"
     ]
    },
    {
     "name": "stderr",
     "output_type": "stream",
     "text": [
      "100%|██████████| 17/17 [00:02<00:00,  8.04it/s]\n"
     ]
    },
    {
     "name": "stdout",
     "output_type": "stream",
     "text": [
      "D Loss: 1.3864, G Loss: -0.6933\n",
      "Epoch 57 / 150\n"
     ]
    },
    {
     "name": "stderr",
     "output_type": "stream",
     "text": [
      "100%|██████████| 17/17 [00:02<00:00,  8.26it/s]\n"
     ]
    },
    {
     "name": "stdout",
     "output_type": "stream",
     "text": [
      "D Loss: 1.3862, G Loss: -0.6929\n",
      "Epoch 58 / 150\n"
     ]
    },
    {
     "name": "stderr",
     "output_type": "stream",
     "text": [
      "100%|██████████| 17/17 [00:02<00:00,  5.94it/s]\n"
     ]
    },
    {
     "name": "stdout",
     "output_type": "stream",
     "text": [
      "D Loss: 1.3868, G Loss: -0.6924\n",
      "Epoch 59 / 150\n"
     ]
    },
    {
     "name": "stderr",
     "output_type": "stream",
     "text": [
      "100%|██████████| 17/17 [00:03<00:00,  4.87it/s]\n"
     ]
    },
    {
     "name": "stdout",
     "output_type": "stream",
     "text": [
      "D Loss: 1.3862, G Loss: -0.6929\n",
      "Epoch 60 / 150\n"
     ]
    },
    {
     "name": "stderr",
     "output_type": "stream",
     "text": [
      "100%|██████████| 17/17 [00:02<00:00,  6.49it/s]\n"
     ]
    },
    {
     "name": "stdout",
     "output_type": "stream",
     "text": [
      "D Loss: 1.3861, G Loss: -0.6938\n",
      "Epoch 61 / 150\n"
     ]
    },
    {
     "name": "stderr",
     "output_type": "stream",
     "text": [
      "100%|██████████| 17/17 [00:02<00:00,  8.00it/s]\n"
     ]
    },
    {
     "name": "stdout",
     "output_type": "stream",
     "text": [
      "D Loss: 1.3864, G Loss: -0.6933\n",
      "Epoch 62 / 150\n"
     ]
    },
    {
     "name": "stderr",
     "output_type": "stream",
     "text": [
      "100%|██████████| 17/17 [00:02<00:00,  8.00it/s]\n"
     ]
    },
    {
     "name": "stdout",
     "output_type": "stream",
     "text": [
      "D Loss: 1.3864, G Loss: -0.6931\n",
      "Epoch 63 / 150\n"
     ]
    },
    {
     "name": "stderr",
     "output_type": "stream",
     "text": [
      "100%|██████████| 17/17 [00:02<00:00,  7.74it/s]\n"
     ]
    },
    {
     "name": "stdout",
     "output_type": "stream",
     "text": [
      "D Loss: 1.3866, G Loss: -0.6928\n",
      "Epoch 64 / 150\n"
     ]
    },
    {
     "name": "stderr",
     "output_type": "stream",
     "text": [
      "100%|██████████| 17/17 [00:02<00:00,  7.57it/s]\n"
     ]
    },
    {
     "name": "stdout",
     "output_type": "stream",
     "text": [
      "D Loss: 1.3867, G Loss: -0.6930\n",
      "Epoch 65 / 150\n"
     ]
    },
    {
     "name": "stderr",
     "output_type": "stream",
     "text": [
      "100%|██████████| 17/17 [00:02<00:00,  7.20it/s]\n"
     ]
    },
    {
     "name": "stdout",
     "output_type": "stream",
     "text": [
      "D Loss: 1.3865, G Loss: -0.6935\n",
      "Epoch 66 / 150\n"
     ]
    },
    {
     "name": "stderr",
     "output_type": "stream",
     "text": [
      "100%|██████████| 17/17 [00:02<00:00,  8.04it/s]\n"
     ]
    },
    {
     "name": "stdout",
     "output_type": "stream",
     "text": [
      "D Loss: 1.3866, G Loss: -0.6932\n",
      "Epoch 67 / 150\n"
     ]
    },
    {
     "name": "stderr",
     "output_type": "stream",
     "text": [
      "100%|██████████| 17/17 [00:02<00:00,  7.93it/s]\n"
     ]
    },
    {
     "name": "stdout",
     "output_type": "stream",
     "text": [
      "D Loss: 1.3866, G Loss: -0.6937\n",
      "Epoch 68 / 150\n"
     ]
    },
    {
     "name": "stderr",
     "output_type": "stream",
     "text": [
      "100%|██████████| 17/17 [00:02<00:00,  8.18it/s]\n"
     ]
    },
    {
     "name": "stdout",
     "output_type": "stream",
     "text": [
      "D Loss: 1.3861, G Loss: -0.6934\n",
      "Epoch 69 / 150\n"
     ]
    },
    {
     "name": "stderr",
     "output_type": "stream",
     "text": [
      "100%|██████████| 17/17 [00:02<00:00,  7.62it/s]\n"
     ]
    },
    {
     "name": "stdout",
     "output_type": "stream",
     "text": [
      "D Loss: 1.3866, G Loss: -0.6932\n",
      "Epoch 70 / 150\n"
     ]
    },
    {
     "name": "stderr",
     "output_type": "stream",
     "text": [
      "100%|██████████| 17/17 [00:02<00:00,  7.78it/s]\n"
     ]
    },
    {
     "name": "stdout",
     "output_type": "stream",
     "text": [
      "D Loss: 1.3867, G Loss: -0.6933\n",
      "Epoch 71 / 150\n"
     ]
    },
    {
     "name": "stderr",
     "output_type": "stream",
     "text": [
      "100%|██████████| 17/17 [00:02<00:00,  6.80it/s]\n"
     ]
    },
    {
     "name": "stdout",
     "output_type": "stream",
     "text": [
      "D Loss: 1.3862, G Loss: -0.6927\n",
      "Epoch 72 / 150\n"
     ]
    },
    {
     "name": "stderr",
     "output_type": "stream",
     "text": [
      "100%|██████████| 17/17 [00:03<00:00,  5.28it/s]\n"
     ]
    },
    {
     "name": "stdout",
     "output_type": "stream",
     "text": [
      "D Loss: 1.3863, G Loss: -0.6931\n",
      "Epoch 73 / 150\n"
     ]
    },
    {
     "name": "stderr",
     "output_type": "stream",
     "text": [
      "100%|██████████| 17/17 [00:02<00:00,  7.37it/s]\n"
     ]
    },
    {
     "name": "stdout",
     "output_type": "stream",
     "text": [
      "D Loss: 1.3863, G Loss: -0.6931\n",
      "Epoch 74 / 150\n"
     ]
    },
    {
     "name": "stderr",
     "output_type": "stream",
     "text": [
      "100%|██████████| 17/17 [00:02<00:00,  6.20it/s]\n"
     ]
    },
    {
     "name": "stdout",
     "output_type": "stream",
     "text": [
      "D Loss: 1.3858, G Loss: -0.6932\n",
      "Epoch 75 / 150\n"
     ]
    },
    {
     "name": "stderr",
     "output_type": "stream",
     "text": [
      "100%|██████████| 17/17 [00:02<00:00,  7.91it/s]\n"
     ]
    },
    {
     "name": "stdout",
     "output_type": "stream",
     "text": [
      "D Loss: 1.3867, G Loss: -0.6937\n",
      "Epoch 76 / 150\n"
     ]
    },
    {
     "name": "stderr",
     "output_type": "stream",
     "text": [
      "100%|██████████| 17/17 [00:02<00:00,  7.66it/s]\n"
     ]
    },
    {
     "name": "stdout",
     "output_type": "stream",
     "text": [
      "D Loss: 1.3859, G Loss: -0.6935\n",
      "Epoch 77 / 150\n"
     ]
    },
    {
     "name": "stderr",
     "output_type": "stream",
     "text": [
      "100%|██████████| 17/17 [00:02<00:00,  7.48it/s]\n"
     ]
    },
    {
     "name": "stdout",
     "output_type": "stream",
     "text": [
      "D Loss: 1.3864, G Loss: -0.6932\n",
      "Epoch 78 / 150\n"
     ]
    },
    {
     "name": "stderr",
     "output_type": "stream",
     "text": [
      "100%|██████████| 17/17 [00:02<00:00,  7.42it/s]\n"
     ]
    },
    {
     "name": "stdout",
     "output_type": "stream",
     "text": [
      "D Loss: 1.3868, G Loss: -0.6936\n",
      "Epoch 79 / 150\n"
     ]
    },
    {
     "name": "stderr",
     "output_type": "stream",
     "text": [
      "100%|██████████| 17/17 [00:02<00:00,  7.90it/s]\n"
     ]
    },
    {
     "name": "stdout",
     "output_type": "stream",
     "text": [
      "D Loss: 1.3865, G Loss: -0.6934\n",
      "Epoch 80 / 150\n"
     ]
    },
    {
     "name": "stderr",
     "output_type": "stream",
     "text": [
      "100%|██████████| 17/17 [00:02<00:00,  8.08it/s]\n"
     ]
    },
    {
     "name": "stdout",
     "output_type": "stream",
     "text": [
      "D Loss: 1.3863, G Loss: -0.6934\n",
      "Epoch 81 / 150\n"
     ]
    },
    {
     "name": "stderr",
     "output_type": "stream",
     "text": [
      "100%|██████████| 17/17 [00:02<00:00,  6.53it/s]\n"
     ]
    },
    {
     "name": "stdout",
     "output_type": "stream",
     "text": [
      "D Loss: 1.3864, G Loss: -0.6926\n",
      "Epoch 82 / 150\n"
     ]
    },
    {
     "name": "stderr",
     "output_type": "stream",
     "text": [
      "100%|██████████| 17/17 [00:02<00:00,  7.53it/s]\n"
     ]
    },
    {
     "name": "stdout",
     "output_type": "stream",
     "text": [
      "D Loss: 1.3865, G Loss: -0.6937\n",
      "Epoch 83 / 150\n"
     ]
    },
    {
     "name": "stderr",
     "output_type": "stream",
     "text": [
      "100%|██████████| 17/17 [00:02<00:00,  6.47it/s]\n"
     ]
    },
    {
     "name": "stdout",
     "output_type": "stream",
     "text": [
      "D Loss: 1.3865, G Loss: -0.6929\n",
      "Epoch 84 / 150\n"
     ]
    },
    {
     "name": "stderr",
     "output_type": "stream",
     "text": [
      "100%|██████████| 17/17 [00:02<00:00,  7.44it/s]\n"
     ]
    },
    {
     "name": "stdout",
     "output_type": "stream",
     "text": [
      "D Loss: 1.3863, G Loss: -0.6934\n",
      "Epoch 85 / 150\n"
     ]
    },
    {
     "name": "stderr",
     "output_type": "stream",
     "text": [
      "100%|██████████| 17/17 [00:02<00:00,  7.51it/s]\n"
     ]
    },
    {
     "name": "stdout",
     "output_type": "stream",
     "text": [
      "D Loss: 1.3862, G Loss: -0.6932\n",
      "Epoch 86 / 150\n"
     ]
    },
    {
     "name": "stderr",
     "output_type": "stream",
     "text": [
      "100%|██████████| 17/17 [00:02<00:00,  7.92it/s]\n"
     ]
    },
    {
     "name": "stdout",
     "output_type": "stream",
     "text": [
      "D Loss: 1.3865, G Loss: -0.6935\n",
      "Epoch 87 / 150\n"
     ]
    },
    {
     "name": "stderr",
     "output_type": "stream",
     "text": [
      "100%|██████████| 17/17 [00:02<00:00,  8.37it/s]\n"
     ]
    },
    {
     "name": "stdout",
     "output_type": "stream",
     "text": [
      "D Loss: 1.3865, G Loss: -0.6930\n",
      "Epoch 88 / 150\n"
     ]
    },
    {
     "name": "stderr",
     "output_type": "stream",
     "text": [
      "100%|██████████| 17/17 [00:02<00:00,  8.04it/s]\n"
     ]
    },
    {
     "name": "stdout",
     "output_type": "stream",
     "text": [
      "D Loss: 1.3865, G Loss: -0.6937\n",
      "Epoch 89 / 150\n"
     ]
    },
    {
     "name": "stderr",
     "output_type": "stream",
     "text": [
      "100%|██████████| 17/17 [00:02<00:00,  7.69it/s]\n"
     ]
    },
    {
     "name": "stdout",
     "output_type": "stream",
     "text": [
      "D Loss: 1.3861, G Loss: -0.6932\n",
      "Epoch 90 / 150\n"
     ]
    },
    {
     "name": "stderr",
     "output_type": "stream",
     "text": [
      "100%|██████████| 17/17 [00:02<00:00,  7.49it/s]\n"
     ]
    },
    {
     "name": "stdout",
     "output_type": "stream",
     "text": [
      "D Loss: 1.3862, G Loss: -0.6931\n",
      "Epoch 91 / 150\n"
     ]
    },
    {
     "name": "stderr",
     "output_type": "stream",
     "text": [
      "100%|██████████| 17/17 [00:02<00:00,  8.24it/s]\n"
     ]
    },
    {
     "name": "stdout",
     "output_type": "stream",
     "text": [
      "D Loss: 1.3865, G Loss: -0.6938\n",
      "Epoch 92 / 150\n"
     ]
    },
    {
     "name": "stderr",
     "output_type": "stream",
     "text": [
      "100%|██████████| 17/17 [00:02<00:00,  7.56it/s]\n"
     ]
    },
    {
     "name": "stdout",
     "output_type": "stream",
     "text": [
      "D Loss: 1.3866, G Loss: -0.6933\n",
      "Epoch 93 / 150\n"
     ]
    },
    {
     "name": "stderr",
     "output_type": "stream",
     "text": [
      "100%|██████████| 17/17 [00:02<00:00,  8.03it/s]\n"
     ]
    },
    {
     "name": "stdout",
     "output_type": "stream",
     "text": [
      "D Loss: 1.3864, G Loss: -0.6932\n",
      "Epoch 94 / 150\n"
     ]
    },
    {
     "name": "stderr",
     "output_type": "stream",
     "text": [
      "100%|██████████| 17/17 [00:02<00:00,  7.99it/s]\n"
     ]
    },
    {
     "name": "stdout",
     "output_type": "stream",
     "text": [
      "D Loss: 1.3864, G Loss: -0.6933\n",
      "Epoch 95 / 150\n"
     ]
    },
    {
     "name": "stderr",
     "output_type": "stream",
     "text": [
      "100%|██████████| 17/17 [00:02<00:00,  7.81it/s]\n"
     ]
    },
    {
     "name": "stdout",
     "output_type": "stream",
     "text": [
      "D Loss: 1.3866, G Loss: -0.6935\n",
      "Epoch 96 / 150\n"
     ]
    },
    {
     "name": "stderr",
     "output_type": "stream",
     "text": [
      "100%|██████████| 17/17 [00:02<00:00,  8.18it/s]\n"
     ]
    },
    {
     "name": "stdout",
     "output_type": "stream",
     "text": [
      "D Loss: 1.3861, G Loss: -0.6929\n",
      "Epoch 97 / 150\n"
     ]
    },
    {
     "name": "stderr",
     "output_type": "stream",
     "text": [
      "100%|██████████| 17/17 [00:02<00:00,  7.91it/s]\n"
     ]
    },
    {
     "name": "stdout",
     "output_type": "stream",
     "text": [
      "D Loss: 1.3863, G Loss: -0.6931\n",
      "Epoch 98 / 150\n"
     ]
    },
    {
     "name": "stderr",
     "output_type": "stream",
     "text": [
      "100%|██████████| 17/17 [00:02<00:00,  7.86it/s]\n"
     ]
    },
    {
     "name": "stdout",
     "output_type": "stream",
     "text": [
      "D Loss: 1.3863, G Loss: -0.6928\n",
      "Epoch 99 / 150\n"
     ]
    },
    {
     "name": "stderr",
     "output_type": "stream",
     "text": [
      "100%|██████████| 17/17 [00:02<00:00,  7.94it/s]\n"
     ]
    },
    {
     "name": "stdout",
     "output_type": "stream",
     "text": [
      "D Loss: 1.3865, G Loss: -0.6932\n",
      "Epoch 100 / 150\n"
     ]
    },
    {
     "name": "stderr",
     "output_type": "stream",
     "text": [
      "100%|██████████| 17/17 [00:02<00:00,  7.97it/s]\n"
     ]
    },
    {
     "name": "stdout",
     "output_type": "stream",
     "text": [
      "D Loss: 1.3866, G Loss: -0.6932\n",
      "Epoch 101 / 150\n"
     ]
    },
    {
     "name": "stderr",
     "output_type": "stream",
     "text": [
      "100%|██████████| 17/17 [00:02<00:00,  8.14it/s]\n"
     ]
    },
    {
     "name": "stdout",
     "output_type": "stream",
     "text": [
      "D Loss: 1.3865, G Loss: -0.6930\n",
      "Epoch 102 / 150\n"
     ]
    },
    {
     "name": "stderr",
     "output_type": "stream",
     "text": [
      "100%|██████████| 17/17 [00:02<00:00,  7.26it/s]\n"
     ]
    },
    {
     "name": "stdout",
     "output_type": "stream",
     "text": [
      "D Loss: 1.3863, G Loss: -0.6934\n",
      "Epoch 103 / 150\n"
     ]
    },
    {
     "name": "stderr",
     "output_type": "stream",
     "text": [
      "100%|██████████| 17/17 [00:02<00:00,  7.85it/s]\n"
     ]
    },
    {
     "name": "stdout",
     "output_type": "stream",
     "text": [
      "D Loss: 1.3863, G Loss: -0.6930\n",
      "Epoch 104 / 150\n"
     ]
    },
    {
     "name": "stderr",
     "output_type": "stream",
     "text": [
      "100%|██████████| 17/17 [00:02<00:00,  8.24it/s]\n"
     ]
    },
    {
     "name": "stdout",
     "output_type": "stream",
     "text": [
      "D Loss: 1.3864, G Loss: -0.6931\n",
      "Epoch 105 / 150\n"
     ]
    },
    {
     "name": "stderr",
     "output_type": "stream",
     "text": [
      "100%|██████████| 17/17 [00:02<00:00,  8.16it/s]\n"
     ]
    },
    {
     "name": "stdout",
     "output_type": "stream",
     "text": [
      "D Loss: 1.3862, G Loss: -0.6932\n",
      "Epoch 106 / 150\n"
     ]
    },
    {
     "name": "stderr",
     "output_type": "stream",
     "text": [
      "100%|██████████| 17/17 [00:02<00:00,  7.94it/s]\n"
     ]
    },
    {
     "name": "stdout",
     "output_type": "stream",
     "text": [
      "D Loss: 1.3865, G Loss: -0.6932\n",
      "Epoch 107 / 150\n"
     ]
    },
    {
     "name": "stderr",
     "output_type": "stream",
     "text": [
      "100%|██████████| 17/17 [00:02<00:00,  8.20it/s]\n"
     ]
    },
    {
     "name": "stdout",
     "output_type": "stream",
     "text": [
      "D Loss: 1.3861, G Loss: -0.6931\n",
      "Epoch 108 / 150\n"
     ]
    },
    {
     "name": "stderr",
     "output_type": "stream",
     "text": [
      "100%|██████████| 17/17 [00:02<00:00,  8.09it/s]\n"
     ]
    },
    {
     "name": "stdout",
     "output_type": "stream",
     "text": [
      "D Loss: 1.3863, G Loss: -0.6933\n",
      "Epoch 109 / 150\n"
     ]
    },
    {
     "name": "stderr",
     "output_type": "stream",
     "text": [
      "100%|██████████| 17/17 [00:02<00:00,  8.21it/s]\n"
     ]
    },
    {
     "name": "stdout",
     "output_type": "stream",
     "text": [
      "D Loss: 1.3864, G Loss: -0.6932\n",
      "Epoch 110 / 150\n"
     ]
    },
    {
     "name": "stderr",
     "output_type": "stream",
     "text": [
      "100%|██████████| 17/17 [00:02<00:00,  8.17it/s]\n"
     ]
    },
    {
     "name": "stdout",
     "output_type": "stream",
     "text": [
      "D Loss: 1.3863, G Loss: -0.6935\n",
      "Epoch 111 / 150\n"
     ]
    },
    {
     "name": "stderr",
     "output_type": "stream",
     "text": [
      "100%|██████████| 17/17 [00:02<00:00,  7.07it/s]\n"
     ]
    },
    {
     "name": "stdout",
     "output_type": "stream",
     "text": [
      "D Loss: 1.3864, G Loss: -0.6932\n",
      "Epoch 112 / 150\n"
     ]
    },
    {
     "name": "stderr",
     "output_type": "stream",
     "text": [
      "100%|██████████| 17/17 [00:02<00:00,  7.50it/s]\n"
     ]
    },
    {
     "name": "stdout",
     "output_type": "stream",
     "text": [
      "D Loss: 1.3864, G Loss: -0.6931\n",
      "Epoch 113 / 150\n"
     ]
    },
    {
     "name": "stderr",
     "output_type": "stream",
     "text": [
      "100%|██████████| 17/17 [00:02<00:00,  8.21it/s]\n"
     ]
    },
    {
     "name": "stdout",
     "output_type": "stream",
     "text": [
      "D Loss: 1.3863, G Loss: -0.6930\n",
      "Epoch 114 / 150\n"
     ]
    },
    {
     "name": "stderr",
     "output_type": "stream",
     "text": [
      "100%|██████████| 17/17 [00:02<00:00,  7.88it/s]\n"
     ]
    },
    {
     "name": "stdout",
     "output_type": "stream",
     "text": [
      "D Loss: 1.3863, G Loss: -0.6930\n",
      "Epoch 115 / 150\n"
     ]
    },
    {
     "name": "stderr",
     "output_type": "stream",
     "text": [
      "100%|██████████| 17/17 [00:02<00:00,  7.87it/s]\n"
     ]
    },
    {
     "name": "stdout",
     "output_type": "stream",
     "text": [
      "D Loss: 1.3863, G Loss: -0.6929\n",
      "Epoch 116 / 150\n"
     ]
    },
    {
     "name": "stderr",
     "output_type": "stream",
     "text": [
      "100%|██████████| 17/17 [00:02<00:00,  8.17it/s]\n"
     ]
    },
    {
     "name": "stdout",
     "output_type": "stream",
     "text": [
      "D Loss: 1.3863, G Loss: -0.6932\n",
      "Epoch 117 / 150\n"
     ]
    },
    {
     "name": "stderr",
     "output_type": "stream",
     "text": [
      "100%|██████████| 17/17 [00:02<00:00,  7.65it/s]\n"
     ]
    },
    {
     "name": "stdout",
     "output_type": "stream",
     "text": [
      "D Loss: 1.3863, G Loss: -0.6930\n",
      "Epoch 118 / 150\n"
     ]
    },
    {
     "name": "stderr",
     "output_type": "stream",
     "text": [
      "100%|██████████| 17/17 [00:02<00:00,  8.14it/s]\n"
     ]
    },
    {
     "name": "stdout",
     "output_type": "stream",
     "text": [
      "D Loss: 1.3866, G Loss: -0.6931\n",
      "Epoch 119 / 150\n"
     ]
    },
    {
     "name": "stderr",
     "output_type": "stream",
     "text": [
      "100%|██████████| 17/17 [00:02<00:00,  7.02it/s]\n"
     ]
    },
    {
     "name": "stdout",
     "output_type": "stream",
     "text": [
      "D Loss: 1.3863, G Loss: -0.6931\n",
      "Epoch 120 / 150\n"
     ]
    },
    {
     "name": "stderr",
     "output_type": "stream",
     "text": [
      "100%|██████████| 17/17 [00:02<00:00,  8.04it/s]\n"
     ]
    },
    {
     "name": "stdout",
     "output_type": "stream",
     "text": [
      "D Loss: 1.3862, G Loss: -0.6930\n",
      "Epoch 121 / 150\n"
     ]
    },
    {
     "name": "stderr",
     "output_type": "stream",
     "text": [
      "100%|██████████| 17/17 [00:02<00:00,  8.08it/s]\n"
     ]
    },
    {
     "name": "stdout",
     "output_type": "stream",
     "text": [
      "D Loss: 1.3863, G Loss: -0.6932\n",
      "Epoch 122 / 150\n"
     ]
    },
    {
     "name": "stderr",
     "output_type": "stream",
     "text": [
      "100%|██████████| 17/17 [00:02<00:00,  7.95it/s]\n"
     ]
    },
    {
     "name": "stdout",
     "output_type": "stream",
     "text": [
      "D Loss: 1.3865, G Loss: -0.6934\n",
      "Epoch 123 / 150\n"
     ]
    },
    {
     "name": "stderr",
     "output_type": "stream",
     "text": [
      "100%|██████████| 17/17 [00:02<00:00,  8.32it/s]\n"
     ]
    },
    {
     "name": "stdout",
     "output_type": "stream",
     "text": [
      "D Loss: 1.3862, G Loss: -0.6930\n",
      "Epoch 124 / 150\n"
     ]
    },
    {
     "name": "stderr",
     "output_type": "stream",
     "text": [
      "100%|██████████| 17/17 [00:02<00:00,  8.27it/s]\n"
     ]
    },
    {
     "name": "stdout",
     "output_type": "stream",
     "text": [
      "D Loss: 1.3863, G Loss: -0.6934\n",
      "Epoch 125 / 150\n"
     ]
    },
    {
     "name": "stderr",
     "output_type": "stream",
     "text": [
      "100%|██████████| 17/17 [00:02<00:00,  8.17it/s]\n"
     ]
    },
    {
     "name": "stdout",
     "output_type": "stream",
     "text": [
      "D Loss: 1.3863, G Loss: -0.6930\n",
      "Epoch 126 / 150\n"
     ]
    },
    {
     "name": "stderr",
     "output_type": "stream",
     "text": [
      "100%|██████████| 17/17 [00:02<00:00,  8.06it/s]\n"
     ]
    },
    {
     "name": "stdout",
     "output_type": "stream",
     "text": [
      "D Loss: 1.3864, G Loss: -0.6934\n",
      "Epoch 127 / 150\n"
     ]
    },
    {
     "name": "stderr",
     "output_type": "stream",
     "text": [
      "100%|██████████| 17/17 [00:02<00:00,  8.02it/s]\n"
     ]
    },
    {
     "name": "stdout",
     "output_type": "stream",
     "text": [
      "D Loss: 1.3862, G Loss: -0.6934\n",
      "Epoch 128 / 150\n"
     ]
    },
    {
     "name": "stderr",
     "output_type": "stream",
     "text": [
      "100%|██████████| 17/17 [00:02<00:00,  8.30it/s]\n"
     ]
    },
    {
     "name": "stdout",
     "output_type": "stream",
     "text": [
      "D Loss: 1.3864, G Loss: -0.6932\n",
      "Epoch 129 / 150\n"
     ]
    },
    {
     "name": "stderr",
     "output_type": "stream",
     "text": [
      "100%|██████████| 17/17 [00:02<00:00,  8.33it/s]\n"
     ]
    },
    {
     "name": "stdout",
     "output_type": "stream",
     "text": [
      "D Loss: 1.3864, G Loss: -0.6930\n",
      "Epoch 130 / 150\n"
     ]
    },
    {
     "name": "stderr",
     "output_type": "stream",
     "text": [
      "100%|██████████| 17/17 [00:02<00:00,  8.20it/s]\n"
     ]
    },
    {
     "name": "stdout",
     "output_type": "stream",
     "text": [
      "D Loss: 1.3864, G Loss: -0.6933\n",
      "Epoch 131 / 150\n"
     ]
    },
    {
     "name": "stderr",
     "output_type": "stream",
     "text": [
      "100%|██████████| 17/17 [00:02<00:00,  8.28it/s]\n"
     ]
    },
    {
     "name": "stdout",
     "output_type": "stream",
     "text": [
      "D Loss: 1.3863, G Loss: -0.6930\n",
      "Epoch 132 / 150\n"
     ]
    },
    {
     "name": "stderr",
     "output_type": "stream",
     "text": [
      "100%|██████████| 17/17 [00:02<00:00,  7.57it/s]\n"
     ]
    },
    {
     "name": "stdout",
     "output_type": "stream",
     "text": [
      "D Loss: 1.3864, G Loss: -0.6931\n",
      "Epoch 133 / 150\n"
     ]
    },
    {
     "name": "stderr",
     "output_type": "stream",
     "text": [
      "100%|██████████| 17/17 [00:02<00:00,  8.38it/s]\n"
     ]
    },
    {
     "name": "stdout",
     "output_type": "stream",
     "text": [
      "D Loss: 1.3865, G Loss: -0.6927\n",
      "Epoch 134 / 150\n"
     ]
    },
    {
     "name": "stderr",
     "output_type": "stream",
     "text": [
      "100%|██████████| 17/17 [00:02<00:00,  8.29it/s]\n"
     ]
    },
    {
     "name": "stdout",
     "output_type": "stream",
     "text": [
      "D Loss: 1.3862, G Loss: -0.6931\n",
      "Epoch 135 / 150\n"
     ]
    },
    {
     "name": "stderr",
     "output_type": "stream",
     "text": [
      "100%|██████████| 17/17 [00:02<00:00,  8.29it/s]\n"
     ]
    },
    {
     "name": "stdout",
     "output_type": "stream",
     "text": [
      "D Loss: 1.3863, G Loss: -0.6931\n",
      "Epoch 136 / 150\n"
     ]
    },
    {
     "name": "stderr",
     "output_type": "stream",
     "text": [
      "100%|██████████| 17/17 [00:02<00:00,  8.28it/s]\n"
     ]
    },
    {
     "name": "stdout",
     "output_type": "stream",
     "text": [
      "D Loss: 1.3862, G Loss: -0.6931\n",
      "Epoch 137 / 150\n"
     ]
    },
    {
     "name": "stderr",
     "output_type": "stream",
     "text": [
      "100%|██████████| 17/17 [00:02<00:00,  8.13it/s]\n"
     ]
    },
    {
     "name": "stdout",
     "output_type": "stream",
     "text": [
      "D Loss: 1.3864, G Loss: -0.6931\n",
      "Epoch 138 / 150\n"
     ]
    },
    {
     "name": "stderr",
     "output_type": "stream",
     "text": [
      "100%|██████████| 17/17 [00:02<00:00,  7.09it/s]\n"
     ]
    },
    {
     "name": "stdout",
     "output_type": "stream",
     "text": [
      "D Loss: 1.3863, G Loss: -0.6931\n",
      "Epoch 139 / 150\n"
     ]
    },
    {
     "name": "stderr",
     "output_type": "stream",
     "text": [
      "100%|██████████| 17/17 [00:02<00:00,  6.91it/s]\n"
     ]
    },
    {
     "name": "stdout",
     "output_type": "stream",
     "text": [
      "D Loss: 1.3865, G Loss: -0.6933\n",
      "Epoch 140 / 150\n"
     ]
    },
    {
     "name": "stderr",
     "output_type": "stream",
     "text": [
      "100%|██████████| 17/17 [00:02<00:00,  6.92it/s]\n"
     ]
    },
    {
     "name": "stdout",
     "output_type": "stream",
     "text": [
      "D Loss: 1.3865, G Loss: -0.6930\n",
      "Epoch 141 / 150\n"
     ]
    },
    {
     "name": "stderr",
     "output_type": "stream",
     "text": [
      "100%|██████████| 17/17 [00:02<00:00,  7.98it/s]\n"
     ]
    },
    {
     "name": "stdout",
     "output_type": "stream",
     "text": [
      "D Loss: 1.3865, G Loss: -0.6934\n",
      "Epoch 142 / 150\n"
     ]
    },
    {
     "name": "stderr",
     "output_type": "stream",
     "text": [
      "100%|██████████| 17/17 [00:02<00:00,  8.23it/s]\n"
     ]
    },
    {
     "name": "stdout",
     "output_type": "stream",
     "text": [
      "D Loss: 1.3863, G Loss: -0.6928\n",
      "Epoch 143 / 150\n"
     ]
    },
    {
     "name": "stderr",
     "output_type": "stream",
     "text": [
      "100%|██████████| 17/17 [00:02<00:00,  7.80it/s]\n"
     ]
    },
    {
     "name": "stdout",
     "output_type": "stream",
     "text": [
      "D Loss: 1.3862, G Loss: -0.6928\n",
      "Epoch 144 / 150\n"
     ]
    },
    {
     "name": "stderr",
     "output_type": "stream",
     "text": [
      "100%|██████████| 17/17 [00:02<00:00,  8.22it/s]\n"
     ]
    },
    {
     "name": "stdout",
     "output_type": "stream",
     "text": [
      "D Loss: 1.3863, G Loss: -0.6931\n",
      "Epoch 145 / 150\n"
     ]
    },
    {
     "name": "stderr",
     "output_type": "stream",
     "text": [
      "100%|██████████| 17/17 [00:02<00:00,  7.99it/s]\n"
     ]
    },
    {
     "name": "stdout",
     "output_type": "stream",
     "text": [
      "D Loss: 1.3865, G Loss: -0.6933\n",
      "Epoch 146 / 150\n"
     ]
    },
    {
     "name": "stderr",
     "output_type": "stream",
     "text": [
      "100%|██████████| 17/17 [00:02<00:00,  7.58it/s]\n"
     ]
    },
    {
     "name": "stdout",
     "output_type": "stream",
     "text": [
      "D Loss: 1.3862, G Loss: -0.6932\n",
      "Epoch 147 / 150\n"
     ]
    },
    {
     "name": "stderr",
     "output_type": "stream",
     "text": [
      "100%|██████████| 17/17 [00:02<00:00,  7.47it/s]\n"
     ]
    },
    {
     "name": "stdout",
     "output_type": "stream",
     "text": [
      "D Loss: 1.3864, G Loss: -0.6929\n",
      "Epoch 148 / 150\n"
     ]
    },
    {
     "name": "stderr",
     "output_type": "stream",
     "text": [
      "100%|██████████| 17/17 [00:02<00:00,  8.32it/s]\n"
     ]
    },
    {
     "name": "stdout",
     "output_type": "stream",
     "text": [
      "D Loss: 1.3861, G Loss: -0.6929\n",
      "Epoch 149 / 150\n"
     ]
    },
    {
     "name": "stderr",
     "output_type": "stream",
     "text": [
      "100%|██████████| 17/17 [00:02<00:00,  7.94it/s]\n"
     ]
    },
    {
     "name": "stdout",
     "output_type": "stream",
     "text": [
      "D Loss: 1.3866, G Loss: -0.6934\n",
      "Epoch 150 / 150\n"
     ]
    },
    {
     "name": "stderr",
     "output_type": "stream",
     "text": [
      "100%|██████████| 17/17 [00:02<00:00,  8.23it/s]"
     ]
    },
    {
     "name": "stdout",
     "output_type": "stream",
     "text": [
      "D Loss: 1.3863, G Loss: -0.6932\n"
     ]
    },
    {
     "name": "stderr",
     "output_type": "stream",
     "text": [
      "\n"
     ]
    }
   ],
   "source": [
    "# note that the temperature is set to any value between 0 and 1.\n",
    "g_losses, d_losses = train_gan_model(\n",
    "    gen,\n",
    "    disc,\n",
    "    gen_optimizer,\n",
    "    disc_optimizer,\n",
    "    train_loader,\n",
    "    epochs,\n",
    "    vocab_size,\n",
    "    device=device,\n",
    "    tau=temperature,\n",
    "    warm_up_epochs=0,\n",
    ")"
   ]
  },
  {
   "cell_type": "code",
   "execution_count": 33,
   "metadata": {},
   "outputs": [
    {
     "data": {
      "image/png": "[encoded data removed]",
      "text/plain": [
       "<Figure size 640x480 with 2 Axes>"
      ]
     },
     "metadata": {},
     "output_type": "display_data"
    }
   ],
   "source": [
    "plot_loss_curve(d_losses, g_losses, epochs, normalize=False)"
   ]
  },
  {
   "cell_type": "markdown",
   "metadata": {},
   "source": [
    "## generate fake samples\n"
   ]
  },
  {
   "cell_type": "code",
   "execution_count": 29,
   "metadata": {},
   "outputs": [],
   "source": [
    "fake_labels = torch.randint(0, num_classes, (n_samples,), dtype=torch.long)\n",
    "z = torch.randn((n_samples, latent_dim))\n",
    "\n",
    "# print(\"random noise shape\", z.shape)\n",
    "# set generator to eval mode\n",
    "gen.eval()\n",
    "\n",
    "fake_data = gen(z.to(device), fake_labels.to(device)).detach().cpu()\n",
    "\n",
    "# print the generated data: if the data contains nan values, it means that there is gradient explosion, or other issues. To avoid such problems, change the termperature value to be between 0.1 and 0.5. Also, trying changing the learning rate to be between 5e-6 and 1e-4. Of course, this is just a suggestion. You might experiment with other values if you want, and report your findings.\n",
    "# print(fake_data[0])"
   ]
  },
  {
   "cell_type": "code",
   "execution_count": 30,
   "metadata": {},
   "outputs": [
    {
     "name": "stdout",
     "output_type": "stream",
     "text": [
      "array([[153,  67, 190, 113, 289, 267, 334, 184, 236, 228,  83, 231, 316,\n",
      "        137,  34, 165,  22, 195, 256, 104, 225, 264, 256,  72,  71, 169,\n",
      "        120, 160, 105, 334, 266, 339, 174, 199, 254, 334, 120, 234, 312,\n",
      "         23, 104, 283, 307,  41, 251,   1, 143,  28, 131, 330,  64, 231,\n",
      "        271, 282,  97, 315, 281, 109, 123, 288, 155,  81,  37, 213, 254,\n",
      "         94, 162, 138,  17, 182, 316, 132,  10, 115, 181,  69, 275, 193,\n",
      "        283, 209, 329, 293, 125, 195,  18, 162,  83, 313, 147, 231, 325,\n",
      "        101, 131, 259, 299, 199,  43, 123, 177,   3],\n",
      "       [  5,  30, 114,  89, 249, 335, 333,  49, 267, 185, 223,  84,   7,\n",
      "         42,  74, 249,  59,  41, 245, 147, 223, 289, 164,  33, 110, 329,\n",
      "        103, 100,  92, 148, 285,  76, 216,  52, 119,  28,  78, 139, 287,\n",
      "        156, 297,  79, 260, 197, 165, 251,  71, 299, 186, 116, 118,  82,\n",
      "        196, 287, 330,  85, 107, 246,  31, 318,  79,  24, 153,  64,  13,\n",
      "         21,  70, 247,  38, 283,  34, 172,  98,  82, 329, 209,  76, 204,\n",
      "         19, 302,   5, 145, 225,  42,  75, 218,  54, 140, 232,  55, 163,\n",
      "        244, 281, 341, 244,  45, 287,  24, 202, 227]])\n"
     ]
    }
   ],
   "source": [
    "# get the generated samples as tokens (this are a sequence tokens or words / characters, represented by integers .)\n",
    "from pprint import pprint\n",
    "\n",
    "fake_samples = torch.argmax(fake_data, dim=-1).cpu().numpy()\n",
    "\n",
    "# now, let's see two generated sequences\n",
    "pprint(fake_samples[:2])"
   ]
  },
  {
   "cell_type": "markdown",
   "metadata": {},
   "source": [
    "# Now, we can generate from generated tokens (i.e., sequence)\n",
    "\n",
    "` To do so, we can use the sequence_to_graph() function given in the preprocess_data.py`\n"
   ]
  },
  {
   "cell_type": "code",
   "execution_count": 31,
   "metadata": {},
   "outputs": [],
   "source": [
    "# convert the generated samples into a networkx graph and also pytorch_geometric graph data object\n",
    "networkx_graph, pytorch_geometric_data = sequence_to_graph(fake_samples[0])"
   ]
  },
  {
   "cell_type": "code",
   "execution_count": 32,
   "metadata": {},
   "outputs": [
    {
     "data": {
      "image/png": "[encoded data removed]",
      "text/plain": [
       "<Figure size 640x480 with 1 Axes>"
      ]
     },
     "metadata": {},
     "output_type": "display_data"
    }
   ],
   "source": [
    "# you can see the networkx graph we generated\n",
    "nx.draw(networkx_graph, with_labels=True)\n",
    "plt.show()"
   ]
  },
  {
   "cell_type": "markdown",
   "metadata": {},
   "source": [
    "# The Remaining Steps:\n",
    "\n",
    "```\n",
    "1 - generate many fake samples (sequences and their corresponding labels),\n",
    "\n",
    "2 - add these fake sequences to train_data sequences, and add their fake_labels (benign or malign) to the trian_labels\n",
    "\n",
    "3 - train a new GCNModel and compare performance before and after adding fake samples.\n",
    "\n",
    "\n",
    "```\n"
   ]
  }
 ],
 "metadata": {
  "kernelspec": {
   "display_name": "adfa-gan-env",
   "language": "python",
   "name": "python3"
  },
  "language_info": {
   "codemirror_mode": {
    "name": "ipython",
    "version": 3
   },
   "file_extension": ".py",
   "mimetype": "text/x-python",
   "name": "python",
   "nbconvert_exporter": "python",
   "pygments_lexer": "ipython3",
   "version": "3.12.0"
  }
 },
 "nbformat": 4,
 "nbformat_minor": 2
}
